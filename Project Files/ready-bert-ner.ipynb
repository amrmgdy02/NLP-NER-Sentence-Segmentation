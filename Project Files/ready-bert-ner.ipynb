{
 "cells": [
  {
   "cell_type": "code",
   "execution_count": null,
   "metadata": {},
   "outputs": [],
   "source": [
    "import json\n",
    "import pipeline_utils as utils\n",
    "import output_utilities as outils"
   ]
  },
  {
   "cell_type": "markdown",
   "metadata": {},
   "source": [
    "## Load the model"
   ]
  },
  {
   "cell_type": "code",
   "execution_count": 11,
   "metadata": {},
   "outputs": [],
   "source": [
    "from transformers import AutoModelForTokenClassification, AutoTokenizer\n",
    "\n",
    "IS_model_2 = AutoModelForTokenClassification.from_pretrained(\"../IS_model\")\n",
    "IS_tokenizer_2 = AutoTokenizer.from_pretrained(\"../IS_model\")\n",
    "\n",
    "NER_model_2 = AutoModelForTokenClassification.from_pretrained(\"../ner_model\")\n",
    "NER_tokenizer_2 = AutoTokenizer.from_pretrained(\"../ner_model\")\n"
   ]
  },
  {
   "cell_type": "markdown",
   "metadata": {},
   "source": [
    "## Test the model"
   ]
  },
  {
   "cell_type": "markdown",
   "metadata": {},
   "source": [
    "output format #2"
   ]
  },
  {
   "cell_type": "code",
   "execution_count": 12,
   "metadata": {},
   "outputs": [
    {
     "name": "stdout",
     "output_type": "stream",
     "text": [
      "[(['1', 'large', 'pizza', 'with', 'yellow', 'peppers', 'a', 'lot', 'of', 'cheese', 'and', 'no', 'pesto'], ['B-PIZZAORDER', 'I-PIZZAORDER', 'I-PIZZAORDER', 'I-PIZZAORDER', 'I-PIZZAORDER', 'I-PIZZAORDER', 'I-PIZZAORDER', 'I-PIZZAORDER', 'I-PIZZAORDER', 'I-PIZZAORDER', 'I-PIZZAORDER', 'I-PIZZAORDER', 'I-PIZZAORDER'], ['B-NUMBER', 'B-SIZE', 'O', 'O', 'B-TOPPING', 'I-TOPPING', 'B-QUANTITY', 'I-QUANTITY', 'I-QUANTITY', 'B-TOPPING', 'O', 'O', 'B-NOT_TOPPING'])]\n",
      "Input text: 1 large pizza with yellow peppers a lot of cheese and no pesto\n",
      "\n",
      "Detected sequences:\n",
      "\n",
      "Sequence 1:\n",
      "Tokens: ['1', 'large', 'pizza', 'with', 'yellow', 'peppers', 'a', 'lot', 'of', 'cheese', 'and', 'no', 'pesto']\n",
      "IS tags: ['B-PIZZAORDER', 'I-PIZZAORDER', 'I-PIZZAORDER', 'I-PIZZAORDER', 'I-PIZZAORDER', 'I-PIZZAORDER', 'I-PIZZAORDER', 'I-PIZZAORDER', 'I-PIZZAORDER', 'I-PIZZAORDER', 'I-PIZZAORDER', 'I-PIZZAORDER', 'I-PIZZAORDER']\n",
      "NER labels: ['B-NUMBER', 'B-SIZE', 'O', 'O', 'B-TOPPING', 'I-TOPPING', 'B-QUANTITY', 'I-QUANTITY', 'I-QUANTITY', 'B-TOPPING', 'O', 'O', 'B-NOT_TOPPING']\n"
     ]
    }
   ],
   "source": [
    "text = \"1 large pizza with yellow peppers a lot of cheese and no pesto\"\n",
    "results = outils.process_order_dynamic(\n",
    "    text,\n",
    "    IS_tokenizer_2,\n",
    "    IS_model_2,\n",
    "    NER_tokenizer_2,\n",
    "    NER_model_2,\n",
    "    utils.IS_id2tag,\n",
    "    utils.id2tag\n",
    ")\n",
    "print(results)\n",
    "print(\"Input text:\", text)\n",
    "print(\"\\nDetected sequences:\")\n",
    "for i, (tokens, is_tags, ner_labels) in enumerate(results, 1):\n",
    "    print(f\"\\nSequence {i}:\")\n",
    "    print(\"Tokens:\", tokens)\n",
    "    print(\"IS tags:\", is_tags)\n",
    "    print(\"NER labels:\", ner_labels)"
   ]
  },
  {
   "cell_type": "markdown",
   "metadata": {},
   "source": [
    "output format #2"
   ]
  },
  {
   "cell_type": "code",
   "execution_count": 13,
   "metadata": {},
   "outputs": [
    {
     "name": "stdout",
     "output_type": "stream",
     "text": [
      "i: O\n",
      "want: O\n",
      "one: B-DRINKORDER\n",
      "pepsi: I-DRINKORDER\n",
      "and: O\n",
      "seven: B-DRINKORDER\n",
      "large: I-DRINKORDER\n",
      "diet: I-DRINKORDER\n",
      "cokes: I-DRINKORDER\n",
      "\n",
      "\n",
      "i: O\n",
      "want: O\n",
      "one: B-NUMBER\n",
      "pepsi: B-DRINKTYPE\n",
      "and: O\n",
      "seven: B-NUMBER\n",
      "large: B-SIZE\n",
      "diet: B-DRINKTYPE\n",
      "cokes: I-DRINKTYPE\n"
     ]
    }
   ],
   "source": [
    "text = \"i want one pepsi and seven large diet cokes\"\n",
    "results = outils.predict_single_string(text, IS_model_2, IS_tokenizer_2, utils.IS_id2tag)\n",
    "ner_results = outils.predict_single_string(text, NER_model_2, NER_tokenizer_2, utils.id2tag)\n",
    "# Print results\n",
    "for word, tag in results:\n",
    "    print(f\"{word}: {tag}\")\n",
    "print(\"\\n\")\n",
    "for word, tag in ner_results:\n",
    "    print(f\"{word}: {tag}\")"
   ]
  },
  {
   "cell_type": "markdown",
   "metadata": {},
   "source": [
    "## Create the final Json file"
   ]
  },
  {
   "cell_type": "code",
   "execution_count": 14,
   "metadata": {},
   "outputs": [
    {
     "name": "stdout",
     "output_type": "stream",
     "text": [
      "{'ORDER': {'DRINKORDER': [{'NUMBER': 'one', 'DRINKTYPE': 'pepsi'}, {'NUMBER': 'seven', 'SIZE': 'large', 'DRINKTYPE': 'diet cokes'}]}}\n"
     ]
    }
   ],
   "source": [
    "\n",
    "text = \"i want one pepsi and seven large diet cokes\"\n",
    "results = outils.process_order_dynamic(\n",
    "    text,\n",
    "    IS_tokenizer_2,\n",
    "    IS_model_2,\n",
    "    NER_tokenizer_2,\n",
    "    NER_model_2,\n",
    "    utils.IS_id2tag,\n",
    "    utils.id2tag\n",
    ")\n",
    "order_json = outils.create_order_json(results)\n",
    "print(order_json)\n",
    "output_file = \"dslim-bert-ner.json\"\n",
    "with open(output_file, \"w\") as f:\n",
    "        json.dump(order_json, f, indent=2)\n"
   ]
  }
 ],
 "metadata": {
  "kernelspec": {
   "display_name": "ml",
   "language": "python",
   "name": "python3"
  },
  "language_info": {
   "codemirror_mode": {
    "name": "ipython",
    "version": 3
   },
   "file_extension": ".py",
   "mimetype": "text/x-python",
   "name": "python",
   "nbconvert_exporter": "python",
   "pygments_lexer": "ipython3",
   "version": "3.12.4"
  }
 },
 "nbformat": 4,
 "nbformat_minor": 2
}
