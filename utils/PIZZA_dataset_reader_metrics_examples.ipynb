{
 "cells": [
  {
   "cell_type": "code",
   "metadata": {
    "ExecuteTime": {
     "end_time": "2024-12-10T13:06:43.439880Z",
     "start_time": "2024-12-10T13:06:42.885198Z"
    }
   },
   "source": [
    "import pandas as pd\n",
    "import sys"
   ],
   "outputs": [],
   "execution_count": 1
  },
  {
   "cell_type": "code",
   "metadata": {
    "ExecuteTime": {
     "end_time": "2024-12-10T13:06:43.539270Z",
     "start_time": "2024-12-10T13:06:43.446219Z"
    }
   },
   "source": [
    "from trees import TopSemanticTree, ExpressSemanticTree\n",
    "from semantic_matchers import is_unordered_exact_match, is_semantics_only_unordered_exact_match, \\\n",
    "                              is_semantics_only_unordered_exact_match_post_ER\n",
    "from entity_resolution import PizzaSkillEntityResolver"
   ],
   "outputs": [],
   "execution_count": 2
  },
  {
   "cell_type": "markdown",
   "metadata": {},
   "source": [
    "### Test TopSemantic Tree"
   ]
  },
  {
   "cell_type": "code",
   "metadata": {
    "ExecuteTime": {
     "end_time": "2024-12-10T13:06:45.355485Z",
     "start_time": "2024-12-10T13:06:45.352159Z"
    }
   },
   "source": [
    "top_string = \"(ORDER (PIZZAORDER (NUMBER five ) (SIZE medium ) pizzas with (TOPPING tomatoes ) and (TOPPING ham ) ) )\""
   ],
   "outputs": [],
   "execution_count": 3
  },
  {
   "cell_type": "code",
   "metadata": {
    "ExecuteTime": {
     "end_time": "2024-12-10T13:06:45.679069Z",
     "start_time": "2024-12-10T13:06:45.675755Z"
    }
   },
   "source": [
    "tstree = TopSemanticTree(flat_string=top_string)"
   ],
   "outputs": [],
   "execution_count": 4
  },
  {
   "cell_type": "code",
   "metadata": {
    "ExecuteTime": {
     "end_time": "2024-12-10T13:06:46.407552Z",
     "start_time": "2024-12-10T13:06:46.403459Z"
    }
   },
   "source": [
    "print(tstree.pretty_string())\n"
   ],
   "outputs": [
    {
     "name": "stdout",
     "output_type": "stream",
     "text": [
      "DUMMY-ROOT\n",
      "└── ORDER\n",
      "    └── PIZZAORDER\n",
      "        ├── NUMBER\n",
      "        │   └── five\n",
      "        ├── SIZE\n",
      "        │   └── medium\n",
      "        ├── pizzas\n",
      "        ├── with\n",
      "        ├── TOPPING\n",
      "        │   └── tomatoes\n",
      "        ├── and\n",
      "        └── TOPPING\n",
      "            └── ham\n",
      "\n"
     ]
    }
   ],
   "execution_count": 5
  },
  {
   "cell_type": "code",
   "metadata": {
    "ExecuteTime": {
     "end_time": "2024-12-10T13:06:47.260669Z",
     "start_time": "2024-12-10T13:06:47.255038Z"
    }
   },
   "source": [
    "semonly_tree = tstree.get_semantics_only_tree(tstree.tree_rep)"
   ],
   "outputs": [],
   "execution_count": 6
  },
  {
   "cell_type": "code",
   "metadata": {
    "ExecuteTime": {
     "end_time": "2024-12-10T13:06:47.675410Z",
     "start_time": "2024-12-10T13:06:47.671343Z"
    }
   },
   "source": [
    "print(semonly_tree.pretty_string())"
   ],
   "outputs": [
    {
     "name": "stdout",
     "output_type": "stream",
     "text": [
      "DUMMY-ROOT\n",
      "└── ORDER\n",
      "    └── PIZZAORDER\n",
      "        ├── NUMBER\n",
      "        │   └── five\n",
      "        ├── SIZE\n",
      "        │   └── medium\n",
      "        ├── TOPPING\n",
      "        │   └── tomatoes\n",
      "        └── TOPPING\n",
      "            └── ham\n",
      "\n"
     ]
    }
   ],
   "execution_count": 7
  },
  {
   "cell_type": "markdown",
   "metadata": {},
   "source": [
    "### ExpressSemanticTree"
   ]
  },
  {
   "cell_type": "code",
   "metadata": {
    "ExecuteTime": {
     "end_time": "2024-12-10T13:06:48.346833Z",
     "start_time": "2024-12-10T13:06:48.343632Z"
    }
   },
   "source": [
    "exr_string = \"(ORDER (PIZZAORDER (NUMBER 5 ) (SIZE MEDIUM ) (TOPPING HAM ) (TOPPING TOMATOES ) ) )\""
   ],
   "outputs": [],
   "execution_count": 8
  },
  {
   "cell_type": "code",
   "metadata": {
    "ExecuteTime": {
     "end_time": "2024-12-10T13:06:48.876129Z",
     "start_time": "2024-12-10T13:06:48.871602Z"
    }
   },
   "source": [
    "estree = ExpressSemanticTree(flat_string=exr_string)"
   ],
   "outputs": [],
   "execution_count": 9
  },
  {
   "cell_type": "code",
   "metadata": {
    "ExecuteTime": {
     "end_time": "2024-12-10T13:06:48.953838Z",
     "start_time": "2024-12-10T13:06:48.949574Z"
    }
   },
   "source": [
    "print(estree.pretty_string())"
   ],
   "outputs": [
    {
     "name": "stdout",
     "output_type": "stream",
     "text": [
      "DUMMY-ROOT\n",
      "└── ORDER\n",
      "    └── PIZZAORDER\n",
      "        ├── NUMBER\n",
      "        │   └── 5\n",
      "        ├── SIZE\n",
      "        │   └── MEDIUM\n",
      "        ├── TOPPING\n",
      "        │   └── HAM\n",
      "        └── TOPPING\n",
      "            └── TOMATOES\n",
      "\n"
     ]
    }
   ],
   "execution_count": 10
  },
  {
   "cell_type": "markdown",
   "metadata": {},
   "source": [
    "# Comparers"
   ]
  },
  {
   "cell_type": "markdown",
   "metadata": {},
   "source": [
    "### TOP examples"
   ]
  },
  {
   "cell_type": "code",
   "metadata": {
    "ExecuteTime": {
     "end_time": "2024-12-10T13:06:49.133526Z",
     "start_time": "2024-12-10T13:06:49.129009Z"
    }
   },
   "source": [
    "top_pred_string_same = \"(ORDER (PIZZAORDER (NUMBER five ) (SIZE medium ) pizzas with (TOPPING tomatoes ) and (TOPPING ham ) ) )\"\n",
    "top_pred_string_same_semonly = \"(ORDER (PIZZAORDER (NUMBER five ) (SIZE medium ) with (TOPPING tomatoes ) and (TOPPING ham ) ) )\"\n",
    "top_pred_string_not_same = \"(ORDER (PIZZAORDER (SIZE medium ) with (TOPPING tomatoes ) and (TOPPING ham ) ) )\""
   ],
   "outputs": [],
   "execution_count": 11
  },
  {
   "cell_type": "markdown",
   "metadata": {},
   "source": [
    "#### Unordered Exact Match TOP"
   ]
  },
  {
   "cell_type": "code",
   "metadata": {
    "ExecuteTime": {
     "end_time": "2024-12-10T13:06:49.182670Z",
     "start_time": "2024-12-10T13:06:49.175671Z"
    }
   },
   "source": [
    "is_unordered_exact_match(top_string, top_pred_string_same, origin_type='TOP')"
   ],
   "outputs": [
    {
     "data": {
      "text/plain": [
       "True"
      ]
     },
     "execution_count": 12,
     "metadata": {},
     "output_type": "execute_result"
    }
   ],
   "execution_count": 12
  },
  {
   "cell_type": "code",
   "metadata": {
    "ExecuteTime": {
     "end_time": "2024-12-10T13:06:49.332792Z",
     "start_time": "2024-12-10T13:06:49.326633Z"
    }
   },
   "source": [
    "is_unordered_exact_match(top_string, top_pred_string_same_semonly, origin_type='TOP')"
   ],
   "outputs": [
    {
     "data": {
      "text/plain": [
       "False"
      ]
     },
     "execution_count": 13,
     "metadata": {},
     "output_type": "execute_result"
    }
   ],
   "execution_count": 13
  },
  {
   "cell_type": "code",
   "metadata": {
    "ExecuteTime": {
     "end_time": "2024-12-10T13:06:49.419401Z",
     "start_time": "2024-12-10T13:06:49.414484Z"
    }
   },
   "source": [
    "is_unordered_exact_match(top_string, top_pred_string_not_same, origin_type='TOP')"
   ],
   "outputs": [
    {
     "data": {
      "text/plain": [
       "False"
      ]
     },
     "execution_count": 14,
     "metadata": {},
     "output_type": "execute_result"
    }
   ],
   "execution_count": 14
  },
  {
   "cell_type": "markdown",
   "metadata": {},
   "source": [
    "#### Unordered Semantics Only Exact Match TOP"
   ]
  },
  {
   "cell_type": "code",
   "metadata": {
    "scrolled": true,
    "ExecuteTime": {
     "end_time": "2024-12-10T13:06:49.510046Z",
     "start_time": "2024-12-10T13:06:49.504026Z"
    }
   },
   "source": [
    "is_semantics_only_unordered_exact_match(top_string, top_pred_string_same)"
   ],
   "outputs": [
    {
     "data": {
      "text/plain": [
       "True"
      ]
     },
     "execution_count": 15,
     "metadata": {},
     "output_type": "execute_result"
    }
   ],
   "execution_count": 15
  },
  {
   "cell_type": "code",
   "metadata": {
    "ExecuteTime": {
     "end_time": "2024-12-10T13:06:49.596315Z",
     "start_time": "2024-12-10T13:06:49.591833Z"
    }
   },
   "source": [
    "is_semantics_only_unordered_exact_match(top_string, top_pred_string_same_semonly)"
   ],
   "outputs": [
    {
     "data": {
      "text/plain": [
       "True"
      ]
     },
     "execution_count": 16,
     "metadata": {},
     "output_type": "execute_result"
    }
   ],
   "execution_count": 16
  },
  {
   "cell_type": "code",
   "metadata": {
    "ExecuteTime": {
     "end_time": "2024-12-10T13:06:49.701907Z",
     "start_time": "2024-12-10T13:06:49.697181Z"
    }
   },
   "source": [
    "is_semantics_only_unordered_exact_match(top_string, top_pred_string_not_same)"
   ],
   "outputs": [
    {
     "data": {
      "text/plain": [
       "False"
      ]
     },
     "execution_count": 17,
     "metadata": {},
     "output_type": "execute_result"
    }
   ],
   "execution_count": 17
  },
  {
   "cell_type": "markdown",
   "metadata": {},
   "source": [
    "### EXR examples"
   ]
  },
  {
   "cell_type": "code",
   "metadata": {
    "ExecuteTime": {
     "end_time": "2024-12-10T13:06:50.238754Z",
     "start_time": "2024-12-10T13:06:50.233852Z"
    }
   },
   "source": [
    "exr_pred_string_same = \"(ORDER (PIZZAORDER (NUMBER 5 ) (SIZE MEDIUM ) (TOPPING HAM ) (TOPPING TOMATOES ) ) )\"\n",
    "exr_pred_string_not_same = \"(ORDER (PIZZAORDER (NUMBER 5 ) (TOPPING HAM ) (TOPPING TOMATOES ) ) )\"\n",
    "exr_pred_string_not_same_2 = \"(ORDER (PIZZAORDER (NUMBER 5 ) (SIZE MEDIUM ) (TOPPING ONIONS ) (TOPPING TOMATOES ) ) )\""
   ],
   "outputs": [],
   "execution_count": 18
  },
  {
   "cell_type": "markdown",
   "metadata": {},
   "source": [
    "#### Unordered Exact Match EXR"
   ]
  },
  {
   "cell_type": "code",
   "metadata": {
    "ExecuteTime": {
     "end_time": "2024-12-10T13:06:50.624797Z",
     "start_time": "2024-12-10T13:06:50.619700Z"
    }
   },
   "source": [
    "is_unordered_exact_match(exr_string, exr_pred_string_same, origin_type='EXPRESS')"
   ],
   "outputs": [
    {
     "data": {
      "text/plain": [
       "True"
      ]
     },
     "execution_count": 19,
     "metadata": {},
     "output_type": "execute_result"
    }
   ],
   "execution_count": 19
  },
  {
   "cell_type": "code",
   "metadata": {
    "ExecuteTime": {
     "end_time": "2024-12-10T13:06:50.683062Z",
     "start_time": "2024-12-10T13:06:50.678037Z"
    }
   },
   "source": [
    "is_unordered_exact_match(exr_string, exr_pred_string_not_same, origin_type='EXPRESS')"
   ],
   "outputs": [
    {
     "data": {
      "text/plain": [
       "False"
      ]
     },
     "execution_count": 20,
     "metadata": {},
     "output_type": "execute_result"
    }
   ],
   "execution_count": 20
  },
  {
   "cell_type": "code",
   "metadata": {
    "ExecuteTime": {
     "end_time": "2024-12-10T13:06:50.781840Z",
     "start_time": "2024-12-10T13:06:50.775833Z"
    }
   },
   "source": [
    "is_unordered_exact_match(exr_string, exr_pred_string_not_same_2, origin_type='EXPRESS')"
   ],
   "outputs": [
    {
     "data": {
      "text/plain": [
       "False"
      ]
     },
     "execution_count": 21,
     "metadata": {},
     "output_type": "execute_result"
    }
   ],
   "execution_count": 21
  },
  {
   "cell_type": "markdown",
   "metadata": {},
   "source": [
    "### Entity Resolution Included"
   ]
  },
  {
   "cell_type": "code",
   "metadata": {
    "scrolled": true,
    "ExecuteTime": {
     "end_time": "2024-12-10T13:06:50.899572Z",
     "start_time": "2024-12-10T13:06:50.822905Z"
    }
   },
   "source": [
    "resolver = PizzaSkillEntityResolver()"
   ],
   "outputs": [],
   "execution_count": 22
  },
  {
   "cell_type": "code",
   "metadata": {
    "ExecuteTime": {
     "end_time": "2024-12-10T13:06:50.917479Z",
     "start_time": "2024-12-10T13:06:50.911706Z"
    }
   },
   "source": [
    "is_semantics_only_unordered_exact_match_post_ER(top_pred_string_same, exr_string, resolver)"
   ],
   "outputs": [
    {
     "data": {
      "text/plain": [
       "True"
      ]
     },
     "execution_count": 23,
     "metadata": {},
     "output_type": "execute_result"
    }
   ],
   "execution_count": 23
  },
  {
   "cell_type": "code",
   "metadata": {
    "ExecuteTime": {
     "end_time": "2024-12-10T13:06:50.953185Z",
     "start_time": "2024-12-10T13:06:50.948735Z"
    }
   },
   "source": [
    "print(resolver.resolve_tree_into_TGT(semonly_tree).pretty_string())"
   ],
   "outputs": [
    {
     "name": "stdout",
     "output_type": "stream",
     "text": [
      "DUMMY-ROOT\n",
      "└── ORDER\n",
      "    └── PIZZAORDER\n",
      "        ├── NUMBER\n",
      "        │   └── 5\n",
      "        ├── SIZE\n",
      "        │   └── MEDIUM\n",
      "        ├── TOPPING\n",
      "        │   └── TOMATOES\n",
      "        └── TOPPING\n",
      "            └── HAM\n",
      "\n"
     ]
    }
   ],
   "execution_count": 24
  },
  {
   "cell_type": "code",
   "metadata": {
    "ExecuteTime": {
     "end_time": "2024-12-10T13:06:50.986177Z",
     "start_time": "2024-12-10T13:06:50.982759Z"
    }
   },
   "source": [
    "print(semonly_tree.pretty_string())"
   ],
   "outputs": [
    {
     "name": "stdout",
     "output_type": "stream",
     "text": [
      "DUMMY-ROOT\n",
      "└── ORDER\n",
      "    └── PIZZAORDER\n",
      "        ├── NUMBER\n",
      "        │   └── five\n",
      "        ├── SIZE\n",
      "        │   └── medium\n",
      "        ├── TOPPING\n",
      "        │   └── tomatoes\n",
      "        └── TOPPING\n",
      "            └── ham\n",
      "\n"
     ]
    }
   ],
   "execution_count": 25
  }
 ],
 "metadata": {
  "kernelspec": {
   "display_name": "Python 3 (ipykernel)",
   "language": "python",
   "name": "python3"
  },
  "language_info": {
   "codemirror_mode": {
    "name": "ipython",
    "version": 3
   },
   "file_extension": ".py",
   "mimetype": "text/x-python",
   "name": "python",
   "nbconvert_exporter": "python",
   "pygments_lexer": "ipython3",
   "version": "3.7.7"
  }
 },
 "nbformat": 4,
 "nbformat_minor": 4
}
